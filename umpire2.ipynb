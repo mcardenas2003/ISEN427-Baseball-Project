{
  "nbformat": 4,
  "nbformat_minor": 0,
  "metadata": {
    "colab": {
      "provenance": [],
      "authorship_tag": "ABX9TyPhS1IzaLUXC08LqPW8odY6",
      "include_colab_link": true
    },
    "kernelspec": {
      "name": "python3",
      "display_name": "Python 3"
    },
    "language_info": {
      "name": "python"
    }
  },
  "cells": [
    {
      "cell_type": "markdown",
      "metadata": {
        "id": "view-in-github",
        "colab_type": "text"
      },
      "source": [
        "<a href=\"https://colab.research.google.com/github/mcardenas2003/ISEN427-Baseball-Project/blob/main/umpire2.ipynb\" target=\"_parent\"><img src=\"https://colab.research.google.com/assets/colab-badge.svg\" alt=\"Open In Colab\"/></a>"
      ]
    },
    {
      "cell_type": "code",
      "execution_count": null,
      "metadata": {
        "id": "xKVlOq2V12AB"
      },
      "outputs": [],
      "source": [
        "import pandas as pd\n",
        "import pymc as pm\n",
        "import numpy as np\n",
        "import arviz as az\n",
        "import matplotlib.pyplot as plt\n",
        "from sklearn.preprocessing import MinMaxScaler"
      ]
    },
    {
      "cell_type": "code",
      "source": [
        "#ump2_orig = pd.read_csv('https://raw.githubusercontent.com/lekhapriya/ISEN_427-627_Project_2025/refs/heads/main/Umpire_2.csv')\n",
        "ump2_orig = pd.read_csv('Umpire_2.csv')"
      ],
      "metadata": {
        "id": "QzAaG6Wv19hd"
      },
      "execution_count": null,
      "outputs": []
    },
    {
      "cell_type": "code",
      "source": [
        "def clean_df(orig_df):\n",
        "    \"\"\"\n",
        "    Pitch types:\n",
        "        ['SI' 'AB' 'SL' 'FC' 'CH' 'CU' 'FF' 'FS' 'EP' 'KC' 'FO' 'KN' 'SC' 'ST'\n",
        "         'SV' 'CS' 'FA']\n",
        "    Handedness: R=1, L=0\n",
        "    Description: 'ball': 0, 'called_strike': 1\n",
        "    Error in decision: 'correct': 0, 'incorrect': 1\n",
        "    \"\"\"\n",
        "    df = orig_df.copy()\n",
        "    # Drop nulls\n",
        "    df = df.dropna()\n",
        "\n",
        "    # Map pitch types to binary columns\n",
        "    unique_pt = df['pitch_type'].unique()\n",
        "    fastballs = ['FF', 'FA', 'FT', 'SI', 'FC'] # 4 seam, 4 seam again, two seam, sinker, cutter\n",
        "    changeups = ['CH', 'EP', 'FO', 'FS'] # Change, ephus, fork, split\n",
        "    off_speed = ['SL', 'CU', 'ST', 'SV', 'CS'] # Slider, curve, sweeper, slurve, slow curve\n",
        "    rare = ['KC', 'KN', 'SC'] # Knucle curve, knuckle ball, screwball\n",
        "    # AB and AS are 'automatic ball/strike' so they are not included. This happens when something like a pitch clock violation occurs\n",
        "    # Against the pitcher or the hitter\n",
        "\n",
        "    # Create new binary columns\n",
        "    df['fastball'] = df['pitch_type'].isin(fastballs).astype(int)\n",
        "    df['changeup'] = df['pitch_type'].isin(changeups).astype(int)\n",
        "    df['off_speed'] = df['pitch_type'].isin(off_speed).astype(int)\n",
        "    df['rare'] = df['pitch_type'].isin(rare).astype(int)\n",
        "\n",
        "    # Drop ptich_type column since it is not categorical\n",
        "    df = df.drop(columns='pitch_type')\n",
        "\n",
        "    # Same with error\n",
        "    df['error_in_decision'] = df['error_in_decision'].map({'correct': 0, 'incorrect': 1})\n",
        "\n",
        "    # Fix handedness\n",
        "    df['stand'] = df['stand'].map({'R': 1, 'L': 0})\n",
        "    df['p_throws'] = df['p_throws'].map({'R': 1, 'L': 0})\n",
        "\n",
        "    df['description'] = df['description'].map({'ball': 0, 'called_strike': 1})\n",
        "\n",
        "\n",
        "    # Max min scale the data to make coefficienst more interpretable\n",
        "    scaler = MinMaxScaler()\n",
        "    df = pd.DataFrame(scaler.fit_transform(df), columns=df.columns)\n",
        "\n",
        "    return df\n",
        "\n",
        "\n",
        "ump2 = clean_df(ump2_orig)"
      ],
      "metadata": {
        "id": "U_hGYMoI2HkK"
      },
      "execution_count": null,
      "outputs": []
    },
    {
      "cell_type": "code",
      "source": [
        "ump2"
      ],
      "metadata": {
        "id": "WJTv5WOu2Nzs"
      },
      "execution_count": null,
      "outputs": []
    },
    {
      "cell_type": "code",
      "source": [
        "X_train = ump2[0:200] # ump1.sample(n=200, random_state=42) # Only take a small amount so that the modeling doesn't take 5-ever\n",
        "X_test = ump2[200:400]\n",
        "outcomes_train = np.array(X_train['error_in_decision'])\n",
        "outcomes_test = np.array(X_test['error_in_decision'])\n",
        "\n",
        "X = ump2.sample(n=200, random_state=42) # Only take a small amount so that the modeling doesn't take 4-ever\n",
        "y_true = np.array(X['error_in_decision'])"
      ],
      "metadata": {
        "id": "KvRXK6a62gh-"
      },
      "execution_count": null,
      "outputs": []
    },
    {
      "cell_type": "code",
      "source": [
        "# Create synthetic dataset\n",
        "true_beta = -10\n",
        "true_intercept = 0\n",
        "true_p = 1 / (1+np.exp(-(true_intercept + true_beta*X_train['pitch_location'])))\n",
        "true_outcomes = np.array((true_p > 0.5).astype(int))"
      ],
      "metadata": {
        "id": "CB6KnwlH2kPU"
      },
      "execution_count": null,
      "outputs": []
    },
    {
      "cell_type": "code",
      "source": [
        "### https://www.pymc.io/projects/docs/en/stable/learn/core_notebooks/posterior_predictive.html\n",
        "# Check prior for pitch_location beta\n",
        "\n",
        "# Create synthetic dataset\n",
        "true_beta = -10\n",
        "true_intercept = 2\n",
        "true_p = 1 / (1+np.exp(-(true_intercept + true_beta*X_train['pitch_location'])))\n",
        "true_outcomes = np.array((true_p > 0.5).astype(int))\n",
        "\n",
        "with pm.Model() as location_model:\n",
        "\n",
        "    # Priors\n",
        "    intercept = pm.Normal(\"intercept\", mu=1, sigma=1)\n",
        "    pitch_location = -pm.HalfNormal(\"pitch_location\", sigma=1)\n",
        "\n",
        "    # Logistic transform\n",
        "    # Makes predictors as a shared variable\n",
        "    pred_pitch_location = pm.Data(\"pred_pitch_location\", X_train['pitch_location'], dims=\"obs_id\")\n",
        "    p = pm.Deterministic(\"p\", 1/(1+np.exp(-(intercept + pitch_location * pred_pitch_location))), dims=\"obs_id\")\n",
        "\n",
        "    # outcome\n",
        "    outcome = pm.Bernoulli(\"outcome\", p=p, observed=true_outcomes, dims=\"obs_id\")\n",
        "\n",
        "    idata = pm.sample_prior_predictive(draws=50, random_seed=42)"
      ],
      "metadata": {
        "id": "p-nxqiT52nAK"
      },
      "execution_count": null,
      "outputs": []
    },
    {
      "cell_type": "code",
      "source": [
        "# Get the prior predictive probabilities\n",
        "\n",
        "p_prior = idata.prior[\"p\"].values  # shape: (draws, obs)\n",
        "\n",
        "X_sorted_idx = np.argsort(X_train['pitch_location'])\n",
        "X_sorted = X_train['pitch_location'].values[X_sorted_idx]\n",
        "true_sorted = true_p[X_sorted_idx]\n",
        "\n",
        "# p_prior_sorted = p_prior[:, X_sorted_idx]\n",
        "\n",
        "for sig in idata.prior['p'].values[0]:\n",
        "    # Sort data\n",
        "    sig_sort = sig[X_sorted_idx]\n",
        "    # Plot data\n",
        "    plt.plot(X_sorted, sig_sort, color='gray', alpha=0.3)\n",
        "\n",
        "\n",
        "# plt.plot(X_sorted, p_prior_sorted[0][0], color='dodgerblue')\n",
        "\n",
        "plt.plot(X_sorted, true_sorted, color='red', label='True Outcomes', zorder=3)\n",
        "\n",
        "plt.xlabel(\"Pitch Location\")\n",
        "plt.ylabel(\"p\")\n",
        "plt.title(\"Prior Predictive Coverage\")\n",
        "plt.legend()\n",
        "plt.show()"
      ],
      "metadata": {
        "id": "uQVgMb7H2qNE"
      },
      "execution_count": null,
      "outputs": []
    },
    {
      "cell_type": "code",
      "source": [
        "# Create first model looking at count\n",
        "# balls, strikes, pitch type, zone\n",
        "with pm.Model() as count_model:\n",
        "    # Get priors for coefficients\n",
        "    # How do we get priors? Answer this question later\n",
        "    balls = pm.Normal(\"balls\", mu=0, sigma=1)\n",
        "    strikes = pm.Normal(\"strikes\", mu=0, sigma=1)\n",
        "    pitch_number = pm.Normal(\"pitch_number\", mu=0, sigma=1)\n",
        "    at_bat_number = pm.Normal(\"at_bat_number\", mu=0, sigma=1)\n",
        "    intercept = pm.Normal('intercept', mu=0, sigma=1)\n",
        "\n",
        "    # Initialize logistic model\n",
        "    situation_linear_pred = intercept + (X['balls'].values*balls) + (X['strikes'].values*strikes) + (X['pitch_number'].values*pitch_number) + (X['at_bat_number'].values*at_bat_number)\n",
        "    count_log_sigmoid = pm.Deterministic(\"count_log_sigmoid\", pm.math.sigmoid(situation_linear_pred))\n",
        "\n",
        "    # Likelihood\n",
        "    count_y_obs = pm.Bernoulli(\"count_y_obs\", p=count_log_sigmoid, observed=y_true)\n",
        "\n",
        "    # Sampling\n",
        "    count_trace = pm.sample(500)\n",
        "\n",
        "    count_pred_samples = pm.sample_posterior_predictive(count_trace, var_names=[\"count_y_obs\"])\n",
        "\n",
        "\n",
        "# Plot posterior distributions\n",
        "az.plot_posterior(count_trace, var_names=[\"balls\", \"strikes\", \"pitch_number\", 'at_bat_number'])"
      ],
      "metadata": {
        "id": "MAgVhZlh2u7a"
      },
      "execution_count": null,
      "outputs": []
    },
    {
      "cell_type": "code",
      "source": [
        "# Get predictions from model\n",
        "count_preds = count_pred_samples.posterior_predictive[\"count_y_obs\"].mean(dim=[\"chain\", \"draw\"]).values\n",
        "\n",
        "# Make binary (cutoff at 0.5) and calculate accuracy\n",
        "count_binary_preds = (count_preds > 0.5).astype(int)\n",
        "count_accuracy = np.mean(y_true == count_binary_preds)\n",
        "print(f\"Accuracy for count model: {count_accuracy*100}%\")"
      ],
      "metadata": {
        "id": "1KqZQCoI22TF"
      },
      "execution_count": null,
      "outputs": []
    },
    {
      "cell_type": "code",
      "source": [
        "# Model looking at important situation variables\n",
        "with pm.Model() as impSit_model:\n",
        "    # Get priors for coefficients\n",
        "    # How do we get priors? Answer this question later\n",
        "    delta_home_win_exp = pm.Normal(\"delta_home_win_exp\", mu=0, sigma=1)\n",
        "    delta_run_exp = pm.Normal(\"delta_run_exp\", mu=0, sigma=1)\n",
        "    home_score = pm.Normal(\"home_score\", mu=0, sigma=1)\n",
        "    away_score = pm.Normal(\"away_score\", mu=0, sigma=1)\n",
        "    on_3b = pm.Normal(\"on_3b\", mu=0, sigma=1)\n",
        "    on_2b = pm.Normal(\"on_2b\", mu=0, sigma=1)\n",
        "    on_1b = pm.Normal(\"on_1b\", mu=0, sigma=1)\n",
        "    intercept = pm.Normal('intercept', mu=0, sigma=1)\n",
        "\n",
        "    # Initialize logistic model\n",
        "    situation_linear_pred = intercept + (X['delta_home_win_exp'].values*delta_home_win_exp) + (X['delta_run_exp'].values*delta_run_exp)\n",
        "    situation_linear_pred += (X['home_score'].values*home_score) + (X['away_score'].values*away_score)\n",
        "    situation_linear_pred += (X['on_3b'].values*on_3b) + (X['on_2b'].values*on_2b) + (X['on_1b'].values*on_1b)\n",
        "    situation_log_sigmoid = pm.Deterministic(\"situation_log_sigmoid\", pm.math.sigmoid(situation_linear_pred))\n",
        "\n",
        "    # Likelihood\n",
        "    situation_y_obs = pm.Bernoulli(\"situation_y_obs\", p=situation_log_sigmoid, observed=y_true)\n",
        "\n",
        "    # Sampling\n",
        "    situation_trace = pm.sample(500)\n",
        "\n",
        "    situation_pred_samples = pm.sample_posterior_predictive(situation_trace, var_names=[\"situation_y_obs\"])\n",
        "\n",
        "\n",
        "# Plot posterior distributions\n",
        "az.plot_posterior(situation_trace, var_names=[\"delta_home_win_exp\", \"delta_run_exp\", \"home_score\", 'away_score', 'on_3b', 'on_2b', 'on_1b'])"
      ],
      "metadata": {
        "id": "yDOdNnL2228e"
      },
      "execution_count": null,
      "outputs": []
    },
    {
      "cell_type": "code",
      "source": [
        "# Get predictions from model\n",
        "situation_preds = situation_pred_samples.posterior_predictive[\"situation_y_obs\"].mean(dim=[\"chain\", \"draw\"]).values\n",
        "\n",
        "# Make binary (cutoff at 0.5) and calculate accuracy\n",
        "situation_binary_preds = (situation_preds > 0.5).astype(int)\n",
        "situation_accuracy = np.mean(y_true == situation_binary_preds)\n",
        "print(f\"Accuracy for situation model: {situation_accuracy*100}%\")"
      ],
      "metadata": {
        "id": "7G-sHwke27ZW"
      },
      "execution_count": null,
      "outputs": []
    },
    {
      "cell_type": "code",
      "source": [],
      "metadata": {
        "id": "W1Ckp5-4S3JD"
      },
      "execution_count": null,
      "outputs": []
    }
  ]
}